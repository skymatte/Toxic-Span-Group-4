{
  "nbformat": 4,
  "nbformat_minor": 0,
  "metadata": {
    "colab": {
      "name": "Prediction.ipynb",
      "provenance": []
    },
    "kernelspec": {
      "name": "python3",
      "display_name": "Python 3"
    }
  },
  "cells": [
    {
      "cell_type": "code",
      "metadata": {
        "id": "EBchJyqyHJOf"
      },
      "source": [
        "# Lint as: python3\n",
        "\"\"\"Example tagging for Toxic Spans based on Spacy.\n",
        "Requires:\n",
        "  pip install spacy sklearn\n",
        "Install models:\n",
        "  python -m spacy download en_core_web_sm\n",
        "\"\"\"\n",
        "\n",
        "import ast\n",
        "import csv\n",
        "import random\n",
        "import statistics\n",
        "import sys\n",
        "import itertools\n",
        "import string\n",
        "import pandas as pd\n",
        "\n",
        "\n",
        "import sklearn\n",
        "import spacy\n",
        "\n",
        "sys.path.append('../evaluation')"
      ],
      "execution_count": null,
      "outputs": []
    },
    {
      "cell_type": "code",
      "metadata": {
        "id": "WheuDdd5Hb79"
      },
      "source": [
        "from spacy.lang.en import Language\n",
        "nlpi = spacy.load(\"/content/drive/MyDrive/Submission/best\")"
      ],
      "execution_count": null,
      "outputs": []
    },
    {
      "cell_type": "code",
      "metadata": {
        "id": "3ECGQnMRtwBH"
      },
      "source": [
        "def read_datafile2(filename):\n",
        "  \"\"\"Reads csv file with python span list and text.\"\"\"\n",
        "  data = []\n",
        "  kw_args={'newline' : '','errors' : None,'encoding' : 'cp1252'}\n",
        "  with open(filename, 'r', **kw_args) as csvfile:\n",
        "    reader = csv.DictReader(csvfile, dialect = csv.excel)\n",
        "    for row in reader:\n",
        "      data.append(row['text'])\n",
        "  return data"
      ],
      "execution_count": null,
      "outputs": []
    },
    {
      "cell_type": "code",
      "metadata": {
        "id": "waQKil2jk9Tm"
      },
      "source": [
        "def read_datafile(filename):\n",
        "  \"\"\"Reads csv file with python span list and text.\"\"\"\n",
        "  data = []\n",
        "  with open(filename) as csvfile:\n",
        "    reader = csv.DictReader(csvfile)\n",
        "    for row in reader:\n",
        "      data.append(row['text'])\n",
        "  return data"
      ],
      "execution_count": null,
      "outputs": []
    },
    {
      "cell_type": "code",
      "metadata": {
        "colab": {
          "base_uri": "https://localhost:8080/"
        },
        "id": "xshoGG0YKJfk",
        "outputId": "3512ed00-49d3-4a23-a57f-f92bb4c750f6"
      },
      "source": [
        "print('loading test data')\n",
        "test = read_datafile2('/content/drive/MyDrive/Submission/test.csv')\n",
        "\n",
        "\n",
        "# print('loading test data')\n",
        "# test = read_datafile('/content/drive/MyDrive/Submission/devfinal.csv')"
      ],
      "execution_count": null,
      "outputs": [
        {
          "output_type": "stream",
          "text": [
            "loading test data\n"
          ],
          "name": "stdout"
        }
      ]
    },
    {
      "cell_type": "code",
      "metadata": {
        "colab": {
          "base_uri": "https://localhost:8080/"
        },
        "id": "DwuOKS6hn15H",
        "outputId": "0bb4ae1f-7a2f-46ad-bcf7-ff02cadaa6c2"
      },
      "source": [
        "print('Prediction')\n",
        "scores = []\n",
        "A = []\n",
        "B = []\n",
        "for text in test:\n",
        "    pred_spans = []\n",
        "    doc = nlpi(text)\n",
        "    for ent in doc.ents:\n",
        "        pred_spans.extend(range(ent.start_char, ent.start_char + len(ent.text)))\n",
        "\n",
        "    A.append(text)\n",
        "    B.append(pred_spans)\n",
        "\n",
        "data = {'spans':  B,\n",
        "        'text': A}\n",
        "\n",
        "df = pd.DataFrame (data, columns = ['spans','text'])\n",
        "\n",
        "df.to_csv(\"/content/drive/MyDrive/Submission/pred.csv\")"
      ],
      "execution_count": null,
      "outputs": [
        {
          "output_type": "stream",
          "text": [
            "Prediction\n"
          ],
          "name": "stdout"
        }
      ]
    },
    {
      "cell_type": "code",
      "metadata": {
        "id": "8NweT2IYt4O6"
      },
      "source": [
        ""
      ],
      "execution_count": null,
      "outputs": []
    }
  ]
}